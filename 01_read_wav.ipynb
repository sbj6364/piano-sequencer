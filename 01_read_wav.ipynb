{
  "nbformat": 4,
  "nbformat_minor": 0,
  "metadata": {
    "colab": {
      "name": "01_read_wav.ipynb",
      "provenance": [],
      "toc_visible": true,
      "authorship_tag": "ABX9TyOwP9URV8MtEhwoDXVZN3x7",
      "include_colab_link": true
    },
    "kernelspec": {
      "name": "python3",
      "display_name": "Python 3"
    },
    "language_info": {
      "name": "python"
    }
  },
  "cells": [
    {
      "cell_type": "markdown",
      "metadata": {
        "id": "view-in-github",
        "colab_type": "text"
      },
      "source": [
        "<a href=\"https://colab.research.google.com/github/sbj6364/piano-sequencer/blob/main/01_read_wav.ipynb\" target=\"_parent\"><img src=\"https://colab.research.google.com/assets/colab-badge.svg\" alt=\"Open In Colab\"/></a>"
      ]
    },
    {
      "cell_type": "markdown",
      "metadata": {
        "id": "Pm8YS4p1m7UW"
      },
      "source": [
        "# 1번 : wav 파일 불러오기\n",
        "\n",
        "`wav` 는 오디오 데이터를 담고 있는 대표적인 확장자 입니다. `do.mp3` 음원을 불러와서 해당 음원의 길이(sec)와 sampling rate 를 출력하는 코드를 작성하세요.\n",
        "\n",
        "\n",
        "#### 데이터\n",
        "[여기](https://s3.ap-northeast-2.amazonaws.com/asset.futureskill.io/questions/production/e03834be-85b0-45a8-8cf6-f9d997c3e429_%E1%84%91%E1%85%B5%E1%84%8B%E1%85%A1%E1%84%82%E1%85%A9+%E1%84%89%E1%85%B5%E1%84%8F%E1%85%AF%E1%86%AB%E1%84%89%E1%85%A5+%E1%84%86%E1%85%A1%E1%86%AB%E1%84%83%E1%85%B3%E1%86%AF%E1%84%80%E1%85%B5+(AP001)/1%E1%84%87%E1%85%A5%E1%86%AB+wav+%E1%84%91%E1%85%A1%E1%84%8B%E1%85%B5%E1%86%AF+%E1%84%87%E1%85%AE%E1%86%AF%E1%84%85%E1%85%A5%E1%84%8B%E1%85%A9%E1%84%80%E1%85%B5+dcf114059ca44260a8bdf8be9582884f/data/piano.zip)서 데이터를 다운받아주세요.\n",
        "\n",
        "\n",
        "#### 베이스라인\n",
        "~~~python\n",
        "import librosa\n",
        "do, sr = librosa.load('do.mp3', sr=None)\n",
        "print('''code here''')\n",
        "~~~\n",
        "\n",
        "\n",
        "#### Output\n",
        "~~~\n",
        "do : 1.071 (sec), 44100\n",
        "~~~\n"
      ]
    },
    {
      "cell_type": "code",
      "metadata": {
        "id": "74A4r6VuQZPC",
        "colab": {
          "base_uri": "https://localhost:8080/"
        },
        "outputId": "3e2625e3-2cdb-49b2-c75c-e709cf420f42"
      },
      "source": [
        "import librosa\n",
        "do, sr = librosa.load('/content/do.mp3', sr=None)\n",
        "\n",
        "len = round(librosa.get_duration(do, sr), 3)\n",
        "\n",
        "print('do :', len, '(sec)', sr)"
      ],
      "execution_count": 1,
      "outputs": [
        {
          "output_type": "stream",
          "text": [
            "/usr/local/lib/python3.7/dist-packages/librosa/core/audio.py:162: UserWarning: PySoundFile failed. Trying audioread instead.\n",
            "  warnings.warn(\"PySoundFile failed. Trying audioread instead.\")\n"
          ],
          "name": "stderr"
        },
        {
          "output_type": "stream",
          "text": [
            "do : 1.071 (sec) 44100\n"
          ],
          "name": "stdout"
        }
      ]
    }
  ]
}