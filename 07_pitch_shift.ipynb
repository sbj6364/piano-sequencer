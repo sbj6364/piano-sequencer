{
  "nbformat": 4,
  "nbformat_minor": 0,
  "metadata": {
    "colab": {
      "name": "07_pitch_shift.ipynb",
      "provenance": [],
      "toc_visible": true,
      "authorship_tag": "ABX9TyP+S2E2zn+egjGS/INoTRya",
      "include_colab_link": true
    },
    "kernelspec": {
      "name": "python3",
      "display_name": "Python 3"
    },
    "language_info": {
      "name": "python"
    }
  },
  "cells": [
    {
      "cell_type": "markdown",
      "metadata": {
        "id": "view-in-github",
        "colab_type": "text"
      },
      "source": [
        "<a href=\"https://colab.research.google.com/github/sbj6364/piano-sequencer/blob/main/07_pitch_shift.ipynb\" target=\"_parent\"><img src=\"https://colab.research.google.com/assets/colab-badge.svg\" alt=\"Open In Colab\"/></a>"
      ]
    },
    {
      "cell_type": "markdown",
      "metadata": {
        "id": "Pm8YS4p1m7UW"
      },
      "source": [
        "# 7번 : 음원 변형하기 - pitch\n",
        "\n",
        "지난 문제를 통해, 이제 [C,D,E,F,G,A,B] 로 이루어진 모든 시퀀스를 생성할 수 있게 되었습니다!\n",
        "\n",
        "하지만 우리의 피아노는 아직 C#, A# 과 같은 음정을 생성할 수 없습니다. 음원 파일이 주어져 있지 않았기 때문입니다.\n",
        "\n",
        "이번 문제에서는 `librosa.effects.pitch_shift` 함수를 활용하여 주어진 음원들로부터 C#, A# 과 같은 음원들을 생성해보도록 합시다.\n",
        "\n",
        "음원과 semitone 을 입력받아, 해당 음원을 해당 semitone 만큼 pitch shift 시킨 음원을 생성하고,\n",
        "\n",
        "실제로 변환된 음원의 chroma spectrogram을 하나의 이미지에 그려서 저장하는 코드를 작성해주세요.\n",
        "\n",
        "#### 베이스라인\n",
        "~~~python\n",
        "def pitch_shift(audio, sr, semitone):\n",
        "\t\t''' \n",
        "\t\tcode here \n",
        "\t\t'''\n",
        "\t\treturn shifted\n",
        "\n",
        "plt.close()\n",
        "plt.figure(figsize=(16,9))\n",
        "plt.subplot(1,3,1)\n",
        "librosa.display.specshow(Chroma(piano['C']))\n",
        "plt.title('C')\n",
        "plt.subplot(1,3,2)\n",
        "librosa.display.specshow(Chroma(pitch_shift(piano['C'], sr, 1)))\n",
        "plt.title('C->C#')\n",
        "plt.subplot(1,3,3)\n",
        "librosa.display.specshow(Chroma(pitch_shift(piano['C'], sr, 2)))\n",
        "plt.title('C->D')\n",
        "plt.tight_layout()\n",
        "plt.savefig('pitch_shift.png')\n",
        "~~~"
      ]
    },
    {
      "cell_type": "code",
      "metadata": {
        "id": "gOpnpGgVwQK2"
      },
      "source": [
        "import matplotlib.pyplot as plt\n",
        "import librosa\n",
        "import librosa.display\n",
        "import numpy as np "
      ],
      "execution_count": 75,
      "outputs": []
    },
    {
      "cell_type": "code",
      "metadata": {
        "id": "74A4r6VuQZPC"
      },
      "source": [
        "import librosa\n",
        "do, sr_do = librosa.load('do.mp3', sr=None)\n",
        "re, sr_re = librosa.load('re.mp3', sr=None)\n",
        "mi, sr_mi = librosa.load('mi.mp3', sr=None)\n",
        "fa, sr_fa = librosa.load('fa.mp3', sr=None)\n",
        "sol, sr_sol = librosa.load('sol.mp3', sr=None)\n",
        "ra, sr_ra = librosa.load('ra.mp3', sr=None)\n",
        "si, sr_si = librosa.load('si.mp3', sr=None)"
      ],
      "execution_count": null,
      "outputs": []
    },
    {
      "cell_type": "code",
      "metadata": {
        "id": "jIfd4HtZt5J_"
      },
      "source": [
        "# 방법 1\n",
        "piano = {'do':do, 're':re, 'mi':mi, 'fa':fa, 'sol':sol, 'ra':ra, 'si':si}\n",
        "piano.values()"
      ],
      "execution_count": null,
      "outputs": []
    },
    {
      "cell_type": "code",
      "metadata": {
        "id": "Ggw5ZNEZBcbw"
      },
      "source": [
        "def LinearSpectrogram(wav):\n",
        "\t\tstft = librosa.stft(wav)\n",
        "\t\tstft = np.abs(stft)\n",
        "\t\treturn stft\n",
        "\n",
        "plt.figure(figsize=(16,9))\n",
        "for index, item in enumerate(piano.keys()):\n",
        "    wave = piano[item]\n",
        "    # print(wave)\n",
        "    stft = LinearSpectrogram(wave)\n",
        "    plt.subplot(1,7,index+1)\n",
        "    librosa.display.specshow(np.log(stft+1e-5))\n",
        "    plt.title(item)\n",
        "\n",
        "plt.tight_layout()\n",
        "plt.savefig('LinearSpec.png')"
      ],
      "execution_count": null,
      "outputs": []
    },
    {
      "cell_type": "code",
      "metadata": {
        "id": "2wugxlSd2LC6"
      },
      "source": [
        "def ChromaSpectrogram(wav):\n",
        "\t\tchroma = librosa.feature.chroma_stft(wav)\n",
        "\t\tchroma = np.abs(chroma)\n",
        "\t\treturn chroma\n",
        "\n",
        "plt.figure(figsize=(16,9))\n",
        "for index, item in enumerate(piano.keys()):\n",
        "    wave = piano[item]\n",
        "    c_stft = ChromaSpectrogram(wave)\n",
        "    plt.subplot(1,7,index+1)\n",
        "    librosa.display.specshow(c_stft)\n",
        "    plt.title(item)\n",
        "\n",
        "plt.tight_layout()\n",
        "plt.savefig('Chroma.png')"
      ],
      "execution_count": null,
      "outputs": []
    },
    {
      "cell_type": "code",
      "metadata": {
        "id": "T-ySubS64fib"
      },
      "source": [
        "def convert(a):\n",
        "  if a == 'C':\n",
        "    a = 'do'\n",
        "  elif a == 'D':\n",
        "    a = 're'\n",
        "  elif a == 'E':\n",
        "    a = 'mi'\n",
        "  elif a == 'F':\n",
        "    a = 'fa'\n",
        "  elif a == 'G':\n",
        "    a = 'sol'\n",
        "  elif a == 'A':\n",
        "    a = 'ra'\n",
        "  elif a == 'B':\n",
        "    a = 'si'\n",
        "  return a\n",
        "\n",
        "\n",
        "def sum_and_plot(a,b):\n",
        "  plt.figure(figsize=(16,9))\n",
        "  a_s = convert(a)\n",
        "  b_s = convert(b)\n",
        "\n",
        "  wave_a = piano[a_s]\n",
        "  wave_b = piano[b_s]\n",
        "  wave_ab = piano[a_s] + piano[b_s]\n",
        "\n",
        "  stft_a = LinearSpectrogram(wave_a)\n",
        "  plt.subplot(2,3,1)\n",
        "  librosa.display.specshow(np.log(stft_a+1e-5))\n",
        "  plt.title('STFT'+a)\n",
        "\n",
        "  stft_b = LinearSpectrogram(wave_b)\n",
        "  plt.subplot(2,3,2)\n",
        "  librosa.display.specshow(np.log(stft_b+1e-5))\n",
        "  plt.title('STFT'+b)\n",
        "\n",
        "  stft_ab = LinearSpectrogram(wave_ab)\n",
        "  plt.subplot(2,3,3)\n",
        "  librosa.display.specshow(np.log(stft_ab+1e-5))\n",
        "  plt.title('STFT'+a+'+'+b)\n",
        "\n",
        "  c_stft_a = ChromaSpectrogram(wave_a)\n",
        "  plt.subplot(2,3,4)\n",
        "  librosa.display.specshow(c_stft_a)\n",
        "  plt.title('Chroma'+a)\n",
        "\n",
        "  c_stft_b = ChromaSpectrogram(wave_b)\n",
        "  plt.subplot(2,3,5)\n",
        "  librosa.display.specshow(c_stft_b)\n",
        "  plt.title('Chroma'+b)\n",
        "\n",
        "  c_stft_ab = ChromaSpectrogram(wave_ab)\n",
        "  plt.subplot(2,3,6)\n",
        "  librosa.display.specshow(c_stft_ab)\n",
        "  plt.title('Chroma'+a+'+'+b)\n",
        "\n",
        "  plt.tight_layout()\n",
        "  plt.savefig('sum_and_plot.png')\n",
        " \n",
        "a = input()\n",
        "b = input()\n",
        "\n",
        "sum_and_plot(a,b)"
      ],
      "execution_count": null,
      "outputs": []
    },
    {
      "cell_type": "code",
      "metadata": {
        "id": "mLmWCWEeB3cC"
      },
      "source": [
        "def concat_piano(arr):\n",
        "  result = []\n",
        "  for sound in arr:\n",
        "    a = convert(sound)\n",
        "    result = np.append(result, piano[a])\n",
        "  return result\n",
        "\n",
        "s = input()\n",
        "s_l = list(s)\n",
        "\n",
        "wave = concat_piano(s_l)\n",
        "\n",
        "plt.figure(figsize=(16,9))\n",
        "\n",
        "stft = LinearSpectrogram(wave)\n",
        "plt.subplot(2,1,1)\n",
        "librosa.display.specshow(np.log(stft+1e-5))\n",
        "plt.title('STFT')\n",
        "\n",
        "c_stft = ChromaSpectrogram(wave)\n",
        "plt.subplot(2,1,2)\n",
        "librosa.display.specshow(c_stft)\n",
        "plt.title('Chroma')\n",
        "\n",
        "plt.tight_layout()\n",
        "plt.savefig('concat.png')"
      ],
      "execution_count": null,
      "outputs": []
    },
    {
      "cell_type": "code",
      "metadata": {
        "colab": {
          "base_uri": "https://localhost:8080/",
          "height": 513
        },
        "id": "LS5ShfFZKD-K",
        "outputId": "91c1184c-53f9-4e0b-d625-69bbb1d2e295"
      },
      "source": [
        "def pitch_shift(audio, sr, semitone):\n",
        "\t\tshifted = librosa.effects.pitch_shift(audio, sr, semitone)\n",
        "\t\treturn shifted\n",
        "\n",
        "plt.close()\n",
        "plt.figure(figsize=(16,9))\n",
        "\n",
        "plt.subplot(1,3,1)\n",
        "librosa.display.specshow(ChromaSpectrogram(piano['do']))\n",
        "plt.title('C')\n",
        "\n",
        "plt.subplot(1,3,2)\n",
        "librosa.display.specshow(ChromaSpectrogram(pitch_shift(piano['do'], sr, 1)))\n",
        "plt.title('C->C#')\n",
        "\n",
        "plt.subplot(1,3,3)\n",
        "librosa.display.specshow(ChromaSpectrogram(pitch_shift(piano['do'], sr, 2)))\n",
        "plt.title('C->D')\n",
        "\n",
        "plt.tight_layout()\n",
        "plt.savefig('pitch_shift.png')"
      ],
      "execution_count": 108,
      "outputs": [
        {
          "output_type": "display_data",
          "data": {
            "image/png": "[encoded data removed]",
            "text/plain": [
              "<Figure size 1152x648 with 3 Axes>"
            ]
          },
          "metadata": {
            "tags": []
          }
        }
      ]
    }
  ]
}