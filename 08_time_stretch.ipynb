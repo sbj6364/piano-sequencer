{
  "nbformat": 4,
  "nbformat_minor": 0,
  "metadata": {
    "colab": {
      "name": "08_time_stretch.ipynb",
      "provenance": [],
      "toc_visible": true,
      "authorship_tag": "ABX9TyNG6fmKSWA1+pGCQeQYeZxI",
      "include_colab_link": true
    },
    "kernelspec": {
      "name": "python3",
      "display_name": "Python 3"
    },
    "language_info": {
      "name": "python"
    }
  },
  "cells": [
    {
      "cell_type": "markdown",
      "metadata": {
        "id": "view-in-github",
        "colab_type": "text"
      },
      "source": [
        "<a href=\"https://colab.research.google.com/github/sbj6364/piano-sequencer/blob/main/08_time_stretch.ipynb\" target=\"_parent\"><img src=\"https://colab.research.google.com/assets/colab-badge.svg\" alt=\"Open In Colab\"/></a>"
      ]
    },
    {
      "cell_type": "markdown",
      "metadata": {
        "id": "Pm8YS4p1m7UW"
      },
      "source": [
        "# 8번 : 음원 변형하기 - time stretch\n",
        "\n",
        "이제 우리는 한 옥타브 내에 12계 음계 모든 음을 얻었습니다. 하지만 모든 음원의 길이가 동일하다는 한계가 아직 남아있네요!\n",
        "\n",
        "이번 연습문제에서는 주어진 음원의 음정을 유지한 채, 길이를 변화시켜주는 `time-stretch` 함수를 활용하여 음원의 길이를 조절해보는 함수를 작성해보겠습니다.\n",
        "\n",
        "음원과 duration을 입력받아, 원래 음원의 길이를 duration배 만큼 늘여서 출력하는 함수를 활용하여, 주어진 pitch sequence 및 duration sequence가 반영된 하나의 음원을 생성하는 코드를 작성해주세요.\n",
        "\n",
        "#### 베이스라인\n",
        "~~~python\n",
        "def concat_piano(pitch, duration):\n",
        "    concat = np.zeros((0))\n",
        "    for index, item in enumerate(pitch):\n",
        "        \n",
        "\t\t\tconcat = ''' code here '''\n",
        "\n",
        "    plt.figure(figsize=(16,9))\n",
        "    plt.subplot(2,1,1)\n",
        "    librosa.display.specshow(np.log(LinearSpectrogram(concat)+1e-5))\n",
        "    plt.title('STFT')\n",
        "    plt.subplot(2,1,2)\n",
        "    librosa.display.specshow(Chroma(concat))\n",
        "    plt.title('chroma')\n",
        "    plt.tight_layout()\n",
        "    plt.savefig('concat_duration.png')\n",
        "concat_piano('EDCDEEE', [2,0.5,1,1,1,1,3])\n",
        "~~~"
      ]
    },
    {
      "cell_type": "code",
      "metadata": {
        "id": "gOpnpGgVwQK2"
      },
      "source": [
        "import matplotlib.pyplot as plt\n",
        "import librosa\n",
        "import librosa.display\n",
        "import numpy as np "
      ],
      "execution_count": 75,
      "outputs": []
    },
    {
      "cell_type": "code",
      "metadata": {
        "id": "74A4r6VuQZPC"
      },
      "source": [
        "import librosa\n",
        "do, sr_do = librosa.load('do.mp3', sr=None)\n",
        "re, sr_re = librosa.load('re.mp3', sr=None)\n",
        "mi, sr_mi = librosa.load('mi.mp3', sr=None)\n",
        "fa, sr_fa = librosa.load('fa.mp3', sr=None)\n",
        "sol, sr_sol = librosa.load('sol.mp3', sr=None)\n",
        "ra, sr_ra = librosa.load('ra.mp3', sr=None)\n",
        "si, sr_si = librosa.load('si.mp3', sr=None)"
      ],
      "execution_count": null,
      "outputs": []
    },
    {
      "cell_type": "code",
      "metadata": {
        "id": "jIfd4HtZt5J_"
      },
      "source": [
        "# 방법 1\n",
        "piano = {'do':do, 're':re, 'mi':mi, 'fa':fa, 'sol':sol, 'ra':ra, 'si':si}\n",
        "piano.values()"
      ],
      "execution_count": null,
      "outputs": []
    },
    {
      "cell_type": "code",
      "metadata": {
        "id": "Ggw5ZNEZBcbw"
      },
      "source": [
        "def LinearSpectrogram(wav):\n",
        "\t\tstft = librosa.stft(wav)\n",
        "\t\tstft = np.abs(stft)\n",
        "\t\treturn stft\n",
        "\n",
        "plt.figure(figsize=(16,9))\n",
        "for index, item in enumerate(piano.keys()):\n",
        "    wave = piano[item]\n",
        "    # print(wave)\n",
        "    stft = LinearSpectrogram(wave)\n",
        "    plt.subplot(1,7,index+1)\n",
        "    librosa.display.specshow(np.log(stft+1e-5))\n",
        "    plt.title(item)\n",
        "\n",
        "plt.tight_layout()\n",
        "plt.savefig('LinearSpec.png')"
      ],
      "execution_count": null,
      "outputs": []
    },
    {
      "cell_type": "code",
      "metadata": {
        "id": "2wugxlSd2LC6"
      },
      "source": [
        "def ChromaSpectrogram(wav):\n",
        "\t\tchroma = librosa.feature.chroma_stft(wav)\n",
        "\t\tchroma = np.abs(chroma)\n",
        "\t\treturn chroma\n",
        "\n",
        "plt.figure(figsize=(16,9))\n",
        "for index, item in enumerate(piano.keys()):\n",
        "    wave = piano[item]\n",
        "    c_stft = ChromaSpectrogram(wave)\n",
        "    plt.subplot(1,7,index+1)\n",
        "    librosa.display.specshow(c_stft)\n",
        "    plt.title(item)\n",
        "\n",
        "plt.tight_layout()\n",
        "plt.savefig('Chroma.png')"
      ],
      "execution_count": null,
      "outputs": []
    },
    {
      "cell_type": "code",
      "metadata": {
        "id": "T-ySubS64fib"
      },
      "source": [
        "def convert(a):\n",
        "  if a == 'C':\n",
        "    a = 'do'\n",
        "  elif a == 'D':\n",
        "    a = 're'\n",
        "  elif a == 'E':\n",
        "    a = 'mi'\n",
        "  elif a == 'F':\n",
        "    a = 'fa'\n",
        "  elif a == 'G':\n",
        "    a = 'sol'\n",
        "  elif a == 'A':\n",
        "    a = 'ra'\n",
        "  elif a == 'B':\n",
        "    a = 'si'\n",
        "  return a\n",
        "\n",
        "\n",
        "def sum_and_plot(a,b):\n",
        "  plt.figure(figsize=(16,9))\n",
        "  a_s = convert(a)\n",
        "  b_s = convert(b)\n",
        "\n",
        "  wave_a = piano[a_s]\n",
        "  wave_b = piano[b_s]\n",
        "  wave_ab = piano[a_s] + piano[b_s]\n",
        "\n",
        "  stft_a = LinearSpectrogram(wave_a)\n",
        "  plt.subplot(2,3,1)\n",
        "  librosa.display.specshow(np.log(stft_a+1e-5))\n",
        "  plt.title('STFT'+a)\n",
        "\n",
        "  stft_b = LinearSpectrogram(wave_b)\n",
        "  plt.subplot(2,3,2)\n",
        "  librosa.display.specshow(np.log(stft_b+1e-5))\n",
        "  plt.title('STFT'+b)\n",
        "\n",
        "  stft_ab = LinearSpectrogram(wave_ab)\n",
        "  plt.subplot(2,3,3)\n",
        "  librosa.display.specshow(np.log(stft_ab+1e-5))\n",
        "  plt.title('STFT'+a+'+'+b)\n",
        "\n",
        "  c_stft_a = ChromaSpectrogram(wave_a)\n",
        "  plt.subplot(2,3,4)\n",
        "  librosa.display.specshow(c_stft_a)\n",
        "  plt.title('Chroma'+a)\n",
        "\n",
        "  c_stft_b = ChromaSpectrogram(wave_b)\n",
        "  plt.subplot(2,3,5)\n",
        "  librosa.display.specshow(c_stft_b)\n",
        "  plt.title('Chroma'+b)\n",
        "\n",
        "  c_stft_ab = ChromaSpectrogram(wave_ab)\n",
        "  plt.subplot(2,3,6)\n",
        "  librosa.display.specshow(c_stft_ab)\n",
        "  plt.title('Chroma'+a+'+'+b)\n",
        "\n",
        "  plt.tight_layout()\n",
        "  plt.savefig('sum_and_plot.png')\n",
        " \n",
        "a = input()\n",
        "b = input()\n",
        "\n",
        "sum_and_plot(a,b)"
      ],
      "execution_count": null,
      "outputs": []
    },
    {
      "cell_type": "code",
      "metadata": {
        "id": "mLmWCWEeB3cC"
      },
      "source": [
        "def concat_piano(arr):\n",
        "  result = []\n",
        "  for sound in arr:\n",
        "    a = convert(sound)\n",
        "    result = np.append(result, piano[a])\n",
        "  return result\n",
        "\n",
        "s = input()\n",
        "s_l = list(s)\n",
        "\n",
        "wave = concat_piano(s_l)\n",
        "\n",
        "plt.figure(figsize=(16,9))\n",
        "\n",
        "stft = LinearSpectrogram(wave)\n",
        "plt.subplot(2,1,1)\n",
        "librosa.display.specshow(np.log(stft+1e-5))\n",
        "plt.title('STFT')\n",
        "\n",
        "c_stft = ChromaSpectrogram(wave)\n",
        "plt.subplot(2,1,2)\n",
        "librosa.display.specshow(c_stft)\n",
        "plt.title('Chroma')\n",
        "\n",
        "plt.tight_layout()\n",
        "plt.savefig('concat.png')"
      ],
      "execution_count": null,
      "outputs": []
    },
    {
      "cell_type": "code",
      "metadata": {
        "id": "LS5ShfFZKD-K"
      },
      "source": [
        "def pitch_shift(audio, sr, semitone):\n",
        "\t\tshifted = librosa.effects.pitch_shift(audio, sr, semitone)\n",
        "\t\treturn shifted\n",
        "\n",
        "plt.close()\n",
        "plt.figure(figsize=(16,9))\n",
        "\n",
        "plt.subplot(1,3,1)\n",
        "librosa.display.specshow(ChromaSpectrogram(piano['do']))\n",
        "plt.title('C')\n",
        "\n",
        "plt.subplot(1,3,2)\n",
        "librosa.display.specshow(ChromaSpectrogram(pitch_shift(piano['do'], sr, 1)))\n",
        "plt.title('C->C#')\n",
        "\n",
        "plt.subplot(1,3,3)\n",
        "librosa.display.specshow(ChromaSpectrogram(pitch_shift(piano['do'], sr, 2)))\n",
        "plt.title('C->D')\n",
        "\n",
        "plt.tight_layout()\n",
        "plt.savefig('pitch_shift.png')"
      ],
      "execution_count": null,
      "outputs": []
    },
    {
      "cell_type": "code",
      "metadata": {
        "id": "vuB566pEToe7"
      },
      "source": [
        "def concat_piano(pitch, duration):\n",
        "  concat = np.zeros((0))\n",
        "  for index, item in enumerate(pitch):\n",
        "    # print(index, item, convert(item))\n",
        "    a = convert(item)\n",
        "    tmp = librosa.effects.time_stretch(piano[a], 1/duration[index])\n",
        "    concat = np.append(concat, tmp)\n",
        "\n",
        "  plt.figure(figsize=(16,9))\n",
        "  plt.subplot(2,1,1)\n",
        "  librosa.display.specshow(np.log(LinearSpectrogram(concat)+1e-5))\n",
        "  plt.title('STFT')\n",
        "\n",
        "  plt.subplot(2,1,2)\n",
        "  librosa.display.specshow(ChromaSpectrogram(concat))\n",
        "  plt.title('chroma')\n",
        "\n",
        "  plt.tight_layout()\n",
        "  plt.savefig('concat_duration.png')\n",
        "\n",
        "concat_piano('EDCDEEE', [2,0.5,1,1,1,1,3])"
      ],
      "execution_count": null,
      "outputs": []
    },
    {
      "cell_type": "code",
      "metadata": {
        "id": "0ZYjrfPOcF-G"
      },
      "source": [
        ""
      ],
      "execution_count": null,
      "outputs": []
    }
  ]
}