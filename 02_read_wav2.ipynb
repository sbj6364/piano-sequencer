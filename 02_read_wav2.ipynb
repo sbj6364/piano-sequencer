{
  "nbformat": 4,
  "nbformat_minor": 0,
  "metadata": {
    "colab": {
      "name": "02_read_wav2.ipynb",
      "provenance": [],
      "toc_visible": true,
      "authorship_tag": "ABX9TyP9N//BUPiy124nYeE9iSHd",
      "include_colab_link": true
    },
    "kernelspec": {
      "name": "python3",
      "display_name": "Python 3"
    },
    "language_info": {
      "name": "python"
    }
  },
  "cells": [
    {
      "cell_type": "markdown",
      "metadata": {
        "id": "view-in-github",
        "colab_type": "text"
      },
      "source": [
        "<a href=\"https://colab.research.google.com/github/sbj6364/piano-sequencer/blob/main/02_read_wav2.ipynb\" target=\"_parent\"><img src=\"https://colab.research.google.com/assets/colab-badge.svg\" alt=\"Open In Colab\"/></a>"
      ]
    },
    {
      "cell_type": "markdown",
      "metadata": {
        "id": "Pm8YS4p1m7UW"
      },
      "source": [
        "# 2번 : wav 파일 불러오기 (2)\n",
        "\n",
        "1번 문제를 통해 우리는 do 파일을 불러왔습니다.\n",
        "\n",
        "마찬가지로 `do`, `re`, `mi`, `fa`, `sol`, `ra`, `si` 파일을 불러와서 piano 라는 dictionary 안에 저장하는 코드를 작성하세요.\n",
        "\n",
        "Output\n",
        "~~~python\n",
        ">>> print(piano)\n",
        "{'do':'do.mp3', 're':'re.mp3', 'mi':'mi.mp3', ...}\n",
        "~~~"
      ]
    },
    {
      "cell_type": "code",
      "metadata": {
        "id": "gOpnpGgVwQK2"
      },
      "source": [
        "import IPython.display as ipd"
      ],
      "execution_count": null,
      "outputs": []
    },
    {
      "cell_type": "code",
      "metadata": {
        "id": "74A4r6VuQZPC",
        "colab": {
          "base_uri": "https://localhost:8080/"
        },
        "outputId": "eb38a7d7-36b6-44c0-cb47-3c961c32a8f7"
      },
      "source": [
        "import librosa\n",
        "do, sr_do = librosa.load('do.mp3', sr=None)\n",
        "re, sr_re = librosa.load('re.mp3', sr=None)\n",
        "mi, sr_mi = librosa.load('mi.mp3', sr=None)\n",
        "fa, sr_fa = librosa.load('fa.mp3', sr=None)\n",
        "sol, sr_sol = librosa.load('sol.mp3', sr=None)\n",
        "ra, sr_ra = librosa.load('ra.mp3', sr=None)\n",
        "si, sr_si = librosa.load('si.mp3', sr=None)"
      ],
      "execution_count": 25,
      "outputs": [
        {
          "output_type": "stream",
          "text": [
            "/usr/local/lib/python3.7/dist-packages/librosa/core/audio.py:162: UserWarning: PySoundFile failed. Trying audioread instead.\n",
            "  warnings.warn(\"PySoundFile failed. Trying audioread instead.\")\n",
            "/usr/local/lib/python3.7/dist-packages/librosa/core/audio.py:162: UserWarning: PySoundFile failed. Trying audioread instead.\n",
            "  warnings.warn(\"PySoundFile failed. Trying audioread instead.\")\n",
            "/usr/local/lib/python3.7/dist-packages/librosa/core/audio.py:162: UserWarning: PySoundFile failed. Trying audioread instead.\n",
            "  warnings.warn(\"PySoundFile failed. Trying audioread instead.\")\n",
            "/usr/local/lib/python3.7/dist-packages/librosa/core/audio.py:162: UserWarning: PySoundFile failed. Trying audioread instead.\n",
            "  warnings.warn(\"PySoundFile failed. Trying audioread instead.\")\n",
            "/usr/local/lib/python3.7/dist-packages/librosa/core/audio.py:162: UserWarning: PySoundFile failed. Trying audioread instead.\n",
            "  warnings.warn(\"PySoundFile failed. Trying audioread instead.\")\n",
            "/usr/local/lib/python3.7/dist-packages/librosa/core/audio.py:162: UserWarning: PySoundFile failed. Trying audioread instead.\n",
            "  warnings.warn(\"PySoundFile failed. Trying audioread instead.\")\n",
            "/usr/local/lib/python3.7/dist-packages/librosa/core/audio.py:162: UserWarning: PySoundFile failed. Trying audioread instead.\n",
            "  warnings.warn(\"PySoundFile failed. Trying audioread instead.\")\n"
          ],
          "name": "stderr"
        }
      ]
    },
    {
      "cell_type": "code",
      "metadata": {
        "colab": {
          "base_uri": "https://localhost:8080/"
        },
        "id": "jIfd4HtZt5J_",
        "outputId": "4acd6a5f-92ba-44ec-9c74-18cf8318106f"
      },
      "source": [
        "# 방법 1\n",
        "piano = {'do':do, 're':re, 'mi':mi, 'fa':fa, 'sol':sol, 'ra':ra, 'si':si}\n",
        "piano"
      ],
      "execution_count": 26,
      "outputs": [
        {
          "output_type": "execute_result",
          "data": {
            "text/plain": [
              "{'do': array([ 0.0000000e+00,  0.0000000e+00,  0.0000000e+00, ...,\n",
              "        -1.5258789e-05, -3.0517578e-05, -3.0517578e-05], dtype=float32),\n",
              " 'fa': array([ 0.0000000e+00,  0.0000000e+00,  0.0000000e+00, ...,\n",
              "        -3.0517578e-05, -4.5776367e-05, -3.0517578e-05], dtype=float32),\n",
              " 'mi': array([ 0.0000000e+00,  0.0000000e+00,  0.0000000e+00, ...,\n",
              "         0.0000000e+00, -1.5258789e-05,  0.0000000e+00], dtype=float32),\n",
              " 'ra': array([0.0000000e+00, 0.0000000e+00, 0.0000000e+00, ..., 0.0000000e+00,\n",
              "        1.5258789e-05, 1.5258789e-05], dtype=float32),\n",
              " 're': array([0.0000000e+00, 0.0000000e+00, 0.0000000e+00, ..., 7.6293945e-05,\n",
              "        7.6293945e-05, 6.1035156e-05], dtype=float32),\n",
              " 'si': array([0.0000000e+00, 0.0000000e+00, 0.0000000e+00, ..., 3.0517578e-05,\n",
              "        3.0517578e-05, 1.5258789e-05], dtype=float32),\n",
              " 'sol': array([0.0000000e+00, 0.0000000e+00, 0.0000000e+00, ..., 0.0000000e+00,\n",
              "        1.5258789e-05, 1.5258789e-05], dtype=float32)}"
            ]
          },
          "metadata": {
            "tags": []
          },
          "execution_count": 26
        }
      ]
    },
    {
      "cell_type": "code",
      "metadata": {
        "colab": {
          "base_uri": "https://localhost:8080/"
        },
        "id": "2m6kWukYydJT",
        "outputId": "f60fb1c6-15d8-4aef-bd50-990334779e36"
      },
      "source": [
        "# 방법 2\n",
        "piano_key = [\"do\",\"re\",\"mi\",\"fa\",\"sol\",\"ra\",\"si\"]\n",
        "piano_val = [do,re,mi,fa,sol,ra,si]\n",
        "piano = dict(zip(piano_key, piano_val))\n",
        "piano"
      ],
      "execution_count": 27,
      "outputs": [
        {
          "output_type": "execute_result",
          "data": {
            "text/plain": [
              "{'do': array([ 0.0000000e+00,  0.0000000e+00,  0.0000000e+00, ...,\n",
              "        -1.5258789e-05, -3.0517578e-05, -3.0517578e-05], dtype=float32),\n",
              " 'fa': array([ 0.0000000e+00,  0.0000000e+00,  0.0000000e+00, ...,\n",
              "        -3.0517578e-05, -4.5776367e-05, -3.0517578e-05], dtype=float32),\n",
              " 'mi': array([ 0.0000000e+00,  0.0000000e+00,  0.0000000e+00, ...,\n",
              "         0.0000000e+00, -1.5258789e-05,  0.0000000e+00], dtype=float32),\n",
              " 'ra': array([0.0000000e+00, 0.0000000e+00, 0.0000000e+00, ..., 0.0000000e+00,\n",
              "        1.5258789e-05, 1.5258789e-05], dtype=float32),\n",
              " 're': array([0.0000000e+00, 0.0000000e+00, 0.0000000e+00, ..., 7.6293945e-05,\n",
              "        7.6293945e-05, 6.1035156e-05], dtype=float32),\n",
              " 'si': array([0.0000000e+00, 0.0000000e+00, 0.0000000e+00, ..., 3.0517578e-05,\n",
              "        3.0517578e-05, 1.5258789e-05], dtype=float32),\n",
              " 'sol': array([0.0000000e+00, 0.0000000e+00, 0.0000000e+00, ..., 0.0000000e+00,\n",
              "        1.5258789e-05, 1.5258789e-05], dtype=float32)}"
            ]
          },
          "metadata": {
            "tags": []
          },
          "execution_count": 27
        }
      ]
    }
  ]
}